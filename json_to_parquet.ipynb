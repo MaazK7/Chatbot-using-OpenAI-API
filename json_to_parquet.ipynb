{
 "cells": [
  {
   "cell_type": "code",
   "execution_count": 1,
   "metadata": {},
   "outputs": [],
   "source": [
    "#Conversion of JSON file into Parquet\n",
    "import pandas as pd\n",
    "\n",
    "json_file = 'pages_with_embeddings.json'\n",
    "parquet_file = 'tgg.parquet'\n",
    "\n",
    "# Read the JSON file into a Pandas DataFrame\n",
    "df = pd.read_json(json_file)\n",
    "\n",
    "# Write the DataFrame to Parquet format\n",
    "df.to_parquet(parquet_file)"
   ]
  },
  {
   "cell_type": "code",
   "execution_count": null,
   "metadata": {},
   "outputs": [],
   "source": []
  }
 ],
 "metadata": {
  "kernelspec": {
   "display_name": ".venv",
   "language": "python",
   "name": "python3"
  },
  "language_info": {
   "codemirror_mode": {
    "name": "ipython",
    "version": 3
   },
   "file_extension": ".py",
   "mimetype": "text/x-python",
   "name": "python",
   "nbconvert_exporter": "python",
   "pygments_lexer": "ipython3",
   "version": "3.10.7"
  },
  "orig_nbformat": 4
 },
 "nbformat": 4,
 "nbformat_minor": 2
}
